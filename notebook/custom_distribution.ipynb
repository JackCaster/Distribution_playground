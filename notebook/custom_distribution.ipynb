{
 "cells": [
  {
   "cell_type": "markdown",
   "metadata": {},
   "source": [
    "# Custom distribution\n",
    "Experiment with `DensityDist`"
   ]
  },
  {
   "cell_type": "code",
   "execution_count": 1,
   "metadata": {},
   "outputs": [],
   "source": [
    "%matplotlib inline\n",
    "import matplotlib.pyplot as plt\n",
    "\n",
    "import seaborn as sns\n",
    "\n",
    "import numpy as np\n",
    "import scipy\n",
    "import theano\n",
    "import theano.tensor as tt\n",
    "\n",
    "import pymc3 as pm"
   ]
  },
  {
   "cell_type": "code",
   "execution_count": 2,
   "metadata": {},
   "outputs": [
    {
     "data": {
      "text/plain": [
       "'def normal_logp(mu, sd):\\n    def _logp(x):\\n        return tt.log(1/(tt.exp((x - mu)**2/(2*sd**2))*(tt.sqrt(2*np.pi)*sd)))\\n    return _logp'"
      ]
     },
     "execution_count": 2,
     "metadata": {},
     "output_type": "execute_result"
    }
   ],
   "source": [
    "\"\"\"def normal_logp(mu, sd):\n",
    "    def _logp(x):\n",
    "        return tt.log(1/(tt.exp((x - mu)**2/(2*sd**2))*(tt.sqrt(2*np.pi)*sd)))\n",
    "    return _logp\"\"\""
   ]
  },
  {
   "cell_type": "code",
   "execution_count": 3,
   "metadata": {},
   "outputs": [],
   "source": [
    "from pymc3.distributions.distribution import generate_samples, draw_values"
   ]
  },
  {
   "cell_type": "code",
   "execution_count": 4,
   "metadata": {},
   "outputs": [
    {
     "data": {
      "text/plain": [
       "'def normal_rng(mu, sd, point=None, size=None):\\n    # draw a numerical value for the parameters\\n    mu_, sd_ = draw_values([mu, sd], point=point)\\n    \\n    size = 1 if size is None else size\\n    \\n    return generate_samples(scipy.stats.norm.rvs, loc=mu_, scale=sd_, size=size, broadcast_shape=(size,))'"
      ]
     },
     "execution_count": 4,
     "metadata": {},
     "output_type": "execute_result"
    }
   ],
   "source": [
    "\"\"\"def normal_rng(mu, sd, point=None, size=None):\n",
    "    # draw a numerical value for the parameters\n",
    "    mu_, sd_ = draw_values([mu, sd], point=point)\n",
    "    \n",
    "    size = 1 if size is None else size\n",
    "    \n",
    "    return generate_samples(scipy.stats.norm.rvs, loc=mu_, scale=sd_, size=size, broadcast_shape=(size,))\"\"\""
   ]
  },
  {
   "cell_type": "code",
   "execution_count": 5,
   "metadata": {},
   "outputs": [
    {
     "data": {
      "text/plain": [
       "array([-0.78572666,  0.63474722, -0.44091072,  0.25673397,  0.73303017,\n",
       "        1.00585064,  1.08555294, -2.60241315,  0.14505996, -0.88163944])"
      ]
     },
     "execution_count": 5,
     "metadata": {},
     "output_type": "execute_result"
    }
   ],
   "source": [
    "# Test if the generate function workd properly. What is `dist_shape`?\n",
    "generate_samples(scipy.stats.norm.rvs, loc=0, scale=1, size=10, broadcast_shape=(10,))\n",
    "#generate_samples(scipy.stats.norm.rvs, loc=0, scale=1, size=10, dist_shape=10)"
   ]
  },
  {
   "cell_type": "code",
   "execution_count": 6,
   "metadata": {},
   "outputs": [],
   "source": [
    "# generate observations\n",
    "np.random.seed(23)\n",
    "y = np.random.normal(loc=0.0, scale=1.0, size=100)"
   ]
  },
  {
   "cell_type": "code",
   "execution_count": 7,
   "metadata": {},
   "outputs": [],
   "source": [
    "with pm.Model() as model:\n",
    "    \n",
    "    mu = pm.Normal('mu', mu=0, sd=10)\n",
    "    sd = pm.HalfNormal('sd', sd=10)\n",
    "    \n",
    "    def normal_logp(value):\n",
    "        #return tt.log(1/(tt.exp((value - mu)**2/(2*sd**2))*(tt.sqrt(2*np.pi)*sd)))\n",
    "        # Obtained from Mathematica: \n",
    "        # FullSimplify[LogLikelihood[NormalDistribution[\\[Mu], \\[Sigma]], {x}], {\\[Sigma] > 0, Element[{\\[Sigma], \\[Mu], x}, Reals]} ]\n",
    "        return (1/2)*(-((value - mu)**2/sd**2) - tt.log(2*np.pi) - 2*tt.log(sd))\n",
    "        \n",
    "    def normal_rng(point=None, size=None):\n",
    "        # draw a numerical value for the parameters\n",
    "        mu_, sd_ = draw_values([mu, sd], point=point)\n",
    "        size = 1 if size is None else size\n",
    "        \n",
    "        return generate_samples(scipy.stats.norm.rvs, loc=mu_, scale=sd_, size=size, dist_shape=y.shape)\n",
    "    \n",
    "    likelihood = pm.DensityDist('likelihood', normal_logp, observed=y, random=normal_rng)"
   ]
  },
  {
   "cell_type": "code",
   "execution_count": 8,
   "metadata": {},
   "outputs": [
    {
     "data": {
      "text/plain": [
       "mu             -3.22\n",
       "sd_log__       -0.77\n",
       "likelihood   -300.29\n",
       "Name: Log-probability of test_point, dtype: float64"
      ]
     },
     "execution_count": 8,
     "metadata": {},
     "output_type": "execute_result"
    }
   ],
   "source": [
    "model.check_test_point()"
   ]
  },
  {
   "cell_type": "code",
   "execution_count": 9,
   "metadata": {
    "scrolled": true
   },
   "outputs": [
    {
     "name": "stderr",
     "output_type": "stream",
     "text": [
      "Auto-assigning NUTS sampler...\n",
      "Initializing NUTS using jitter+adapt_diag...\n",
      "Sequential sampling (2 chains in 1 job)\n",
      "NUTS: [sd, mu]\n",
      "100%|███████████████████████████████████████████████████████████████| 2000/2000 [00:02<00:00, 758.76it/s]\n",
      "100%|███████████████████████████████████████████████████████████████| 2000/2000 [00:02<00:00, 860.96it/s]\n",
      "C:\\Miniconda3\\envs\\intro_to_pymc3\\lib\\site-packages\\mkl_fft\\_numpy_fft.py:1044: FutureWarning: Using a non-tuple sequence for multidimensional indexing is deprecated; use `arr[tuple(seq)]` instead of `arr[seq]`. In the future this will be interpreted as an array index, `arr[np.array(seq)]`, which will result either in an error or a different result.\n",
      "  output = mkl_fft.rfftn_numpy(a, s, axes)\n"
     ]
    }
   ],
   "source": [
    "CHAINS = 2\n",
    "CORES = 1\n",
    "with model:\n",
    "    trace = pm.sample(draws=1000, tune=1000, chains=CHAINS, cores=CORES, random_seed=[23+ i for i in np.arange(CHAINS)])"
   ]
  },
  {
   "cell_type": "code",
   "execution_count": 10,
   "metadata": {},
   "outputs": [
    {
     "data": {
      "image/png": "[encoded data removed]",
      "text/plain": [
       "<Figure size 432x288 with 1 Axes>"
      ]
     },
     "metadata": {},
     "output_type": "display_data"
    }
   ],
   "source": [
    "x = np.arange(-10, 10, 0.1)\n",
    "\n",
    "THIN = 50\n",
    "\n",
    "plt.hist(y, density=True, facecolor='gray')\n",
    "\n",
    "for mu, sd in zip(trace['mu'][::THIN], trace['sd'][::THIN]):\n",
    "    pdf = scipy.stats.norm.pdf(x, loc=mu, scale=sd)\n",
    "    plt.plot(x, pdf, color='red', alpha=0.05)"
   ]
  },
  {
   "cell_type": "code",
   "execution_count": 11,
   "metadata": {},
   "outputs": [
    {
     "name": "stderr",
     "output_type": "stream",
     "text": [
      "100%|██████████████████████████████████████████████████████████████| 1000/1000 [00:00<00:00, 3558.74it/s]\n"
     ]
    },
    {
     "data": {
      "text/plain": [
       "(1000, 100)"
      ]
     },
     "execution_count": 11,
     "metadata": {},
     "output_type": "execute_result"
    }
   ],
   "source": [
    "with model:\n",
    "    #ppc = pm.sample_posterior_predictive(trace, samples=250, size=100)\n",
    "    ppc = pm.sample_posterior_predictive(trace)\n",
    "    \n",
    "ppc['likelihood'].shape"
   ]
  },
  {
   "cell_type": "code",
   "execution_count": 12,
   "metadata": {},
   "outputs": [
    {
     "name": "stderr",
     "output_type": "stream",
     "text": [
      "C:\\Miniconda3\\envs\\intro_to_pymc3\\lib\\site-packages\\scipy\\stats\\stats.py:1713: FutureWarning: Using a non-tuple sequence for multidimensional indexing is deprecated; use `arr[tuple(seq)]` instead of `arr[seq]`. In the future this will be interpreted as an array index, `arr[np.array(seq)]`, which will result either in an error or a different result.\n",
      "  return np.add.reduce(sorted[indexer] * weights, axis=axis) / sumval\n"
     ]
    },
    {
     "data": {
      "image/png": "[encoded data removed]",
      "text/plain": [
       "<Figure size 432x288 with 1 Axes>"
      ]
     },
     "metadata": {},
     "output_type": "display_data"
    }
   ],
   "source": [
    "plt.hist(y, density=True, facecolor='gray', label='observations')\n",
    "#plt.hist(ppc['likelihood'].flatten(), histtype='step', density=True, label='ppc');\n",
    "for row in ppc['likelihood'][::THIN]:\n",
    "    sns.kdeplot(row, color='red', alpha=0.1)\n",
    "plt.legend()\n",
    "pass"
   ]
  },
  {
   "cell_type": "code",
   "execution_count": null,
   "metadata": {},
   "outputs": [],
   "source": []
  }
 ],
 "metadata": {
  "kernelspec": {
   "display_name": "Python 3",
   "language": "python",
   "name": "python3"
  },
  "language_info": {
   "codemirror_mode": {
    "name": "ipython",
    "version": 3
   },
   "file_extension": ".py",
   "mimetype": "text/x-python",
   "name": "python",
   "nbconvert_exporter": "python",
   "pygments_lexer": "ipython3",
   "version": "3.6.6"
  }
 },
 "nbformat": 4,
 "nbformat_minor": 2
}
