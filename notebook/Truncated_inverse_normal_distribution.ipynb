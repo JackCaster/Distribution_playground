{
 "cells": [
  {
   "cell_type": "markdown",
   "metadata": {},
   "source": [
    "# Bayesian inference with PyMC\n",
    "## Truncated inverse gaussian distribution (aka Wald) for the likelihood"
   ]
  },
  {
   "cell_type": "code",
   "execution_count": 1,
   "metadata": {},
   "outputs": [],
   "source": [
    "%load_ext autoreload\n",
    "%autoreload 2"
   ]
  },
  {
   "cell_type": "code",
   "execution_count": 2,
   "metadata": {},
   "outputs": [
    {
     "name": "stderr",
     "output_type": "stream",
     "text": [
      "C:\\Miniconda3\\envs\\pymc3\\lib\\site-packages\\h5py\\__init__.py:36: FutureWarning: Conversion of the second argument of issubdtype from `float` to `np.floating` is deprecated. In future, it will be treated as `np.float64 == np.dtype(float).type`.\n",
      "  from ._conv import register_converters as _register_converters\n"
     ]
    },
    {
     "name": "stdout",
     "output_type": "stream",
     "text": [
      "3.4.1\n"
     ]
    }
   ],
   "source": [
    "import pymc3 as pm\n",
    "print(pm.__version__)\n",
    "\n",
    "%matplotlib inline\n",
    "import matplotlib.pyplot as plt\n",
    "\n",
    "import numpy as np\n",
    "np.random.seed(123)\n",
    "\n",
    "import scipy.stats as st\n",
    "import scipy.special as ss\n",
    "\n",
    "import theano.tensor as tt"
   ]
  },
  {
   "cell_type": "code",
   "execution_count": 3,
   "metadata": {},
   "outputs": [],
   "source": [
    "def normal_pdf(x, mu, sigma):\n",
    "    return np.exp(-((x-mu)**2)/(2*sigma**2)) / np.sqrt(2*np.pi*sigma**2)"
   ]
  },
  {
   "cell_type": "code",
   "execution_count": 4,
   "metadata": {},
   "outputs": [],
   "source": [
    "def normal_cdf(x, mu, sigma):\n",
    "    return 0.5 * (1 + ss.erf((x-mu)/(sigma*np.sqrt(2))))"
   ]
  },
  {
   "cell_type": "code",
   "execution_count": 26,
   "metadata": {},
   "outputs": [],
   "source": [
    "def inverse_gaussian_pdf(x, mu, lam):\n",
    "    return np.sqrt(lam/(2*np.pi*(x**3.0))) * np.exp((-lam*(x-mu)**2)/(2*x*(mu**2)))"
   ]
  },
  {
   "cell_type": "code",
   "execution_count": 31,
   "metadata": {},
   "outputs": [],
   "source": [
    "def inverse_gaussian_cdf(x, mu, lam):\n",
    "    arg1 = np.sqrt(lam/x) * (x/mu - 1)\n",
    "    arg2 = -np.sqrt(lam/x) * (x/mu + 1)\n",
    "    \n",
    "    cdf = normal_cdf(arg1, mu=0, sigma=1) # standard normal distribution\n",
    "    cdf += (np.exp(2*(lam/mu)) * normal_cdf(arg2, mu=0, sigma=1))\n",
    "\n",
    "    return cdf"
   ]
  },
  {
   "cell_type": "code",
   "execution_count": 32,
   "metadata": {},
   "outputs": [],
   "source": [
    "def inverse_gaussian_pdf_truncated(x, mu, lam, upper):\n",
    "    pdf = inverse_gaussian_pdf(x=x, mu=mu, lam=lam)\n",
    "    pdf[x>upper] = 0\n",
    "    # renormalize\n",
    "    pdf /= inverse_gaussian_cdf(x=upper, mu=mu, lam=lam)\n",
    "    \n",
    "    return pdf"
   ]
  },
  {
   "cell_type": "code",
   "execution_count": 80,
   "metadata": {},
   "outputs": [],
   "source": [
    "# generate Inverse Gaussian observations\n",
    "mu_true = 3\n",
    "lam_true = 2\n",
    "\n",
    "y_wald = np.random.wald(mean=mu_true, scale=lam_true, size=10000)\n",
    "\n",
    "range_x = 0.01\n",
    "x_wald = np.arange(0, np.max(y_wald), range_x)\n",
    "\n",
    "upper = 10"
   ]
  },
  {
   "cell_type": "code",
   "execution_count": 81,
   "metadata": {},
   "outputs": [
    {
     "data": {
      "image/png": "[encoded data removed]",
      "text/plain": [
       "<Figure size 432x288 with 1 Axes>"
      ]
     },
     "metadata": {},
     "output_type": "display_data"
    }
   ],
   "source": [
    "# Check if the defined function is working\n",
    "plt.hist(y_wald, bins=100, density=True, histtype='stepfilled', facecolor='lightgray', edgecolor='k');\n",
    "\n",
    "plt.plot(x_wald, st.invgauss.pdf(x_wald, mu=mu_true/lam_true, scale=lam_true), 'r-', alpha=0.5, lw=5)\n",
    "plt.plot(x_wald, inverse_gaussian_pdf(x_wald, mu=mu_true, lam=lam_true), 'b--', alpha=1, lw=2);"
   ]
  },
  {
   "cell_type": "code",
   "execution_count": 82,
   "metadata": {},
   "outputs": [
    {
     "data": {
      "image/png": "[encoded data removed]",
      "text/plain": [
       "<Figure size 432x288 with 1 Axes>"
      ]
     },
     "metadata": {},
     "output_type": "display_data"
    }
   ],
   "source": [
    "# Check if the defined function is working\n",
    "plt.hist(y_wald[y_wald<=upper], bins=100, density=True, histtype='stepfilled', facecolor='lightgray', edgecolor='k');\n",
    "plt.plot(x_wald, inverse_gaussian_pdf_truncated(x_wald, mu=mu_true, lam=lam_true, upper=upper), 'b--', alpha=1, lw=2);"
   ]
  },
  {
   "cell_type": "markdown",
   "metadata": {},
   "source": [
    "## Estimate parameter with PyMC3"
   ]
  },
  {
   "cell_type": "code",
   "execution_count": 83,
   "metadata": {},
   "outputs": [
    {
     "data": {
      "text/plain": [
       "array([1.42595362, 3.64522819, 5.21298368, ..., 1.65824032, 0.94314865,\n",
       "       0.79415367])"
      ]
     },
     "execution_count": 83,
     "metadata": {},
     "output_type": "execute_result"
    }
   ],
   "source": [
    "obs = y_wald[y_wald<=upper]\n",
    "obs"
   ]
  },
  {
   "cell_type": "code",
   "execution_count": 84,
   "metadata": {},
   "outputs": [],
   "source": [
    "def normal_logcdf_theano(x, mu, sigma):\n",
    "    return tt.log(0.5 * (1 + tt.erf((x-mu)/(sigma*tt.sqrt(2)))))"
   ]
  },
  {
   "cell_type": "code",
   "execution_count": 85,
   "metadata": {},
   "outputs": [],
   "source": [
    "def normal_cdf_theano(x, mu, sigma):\n",
    "    return 0.5 * (1 + tt.erf((x-mu)/(sigma*tt.sqrt(2))))"
   ]
  },
  {
   "cell_type": "code",
   "execution_count": 86,
   "metadata": {},
   "outputs": [],
   "source": [
    "def inverse_gaussian_cdf_theano(x, mu, lam):\n",
    "    arg1 = tt.sqrt(lam/x) * (x/mu - 1)\n",
    "    arg2 = -tt.sqrt(lam/x) * (x/mu + 1)\n",
    "    \n",
    "    cdf = normal_cdf_theano(arg1, mu=0, sigma=1) # standard normal distribution\n",
    "    cdf += (tt.exp(2*lam/mu) * normal_cdf_theano(arg2, mu=0, sigma=1))\n",
    "\n",
    "    return cdf"
   ]
  },
  {
   "cell_type": "code",
   "execution_count": 87,
   "metadata": {},
   "outputs": [],
   "source": [
    "def inverse_gaussian_logcdf_theano(x, mu, lam):\n",
    "    arg1 = tt.sqrt(lam/x) * (x/mu - 1)\n",
    "    arg2 = -tt.sqrt(lam/x) * (x/mu + 1)\n",
    "    \n",
    "    cdf = normal_cdf_theano(arg1, mu=0, sigma=1) # standard normal distribution\n",
    "    cdf += (tt.exp(2*lam/mu) * normal_cdf_theano(arg2, mu=0, sigma=1))\n",
    "\n",
    "    return tt.log(cdf)"
   ]
  },
  {
   "cell_type": "code",
   "execution_count": null,
   "metadata": {},
   "outputs": [
    {
     "name": "stderr",
     "output_type": "stream",
     "text": [
      "Auto-assigning NUTS sampler...\n",
      "Initializing NUTS using jitter+adapt_diag...\n",
      "Multiprocess sampling (2 chains in 2 jobs)\n",
      "NUTS: [lam_log__, mu_log__]\n"
     ]
    }
   ],
   "source": [
    "with pm.Model() as model:\n",
    "    \n",
    "    mu = pm.HalfNormal('mu', sd=10)\n",
    "    lam = pm.HalfNormal('lam', sd=10)\n",
    "    \n",
    "    y_likelihood = pm.Wald('y_likelihood', mu, lam, observed=obs)\n",
    "    # potential works the same as target +=... in Stan, tt.switch works the same as ifelse\n",
    "    # see: https://discourse.pymc.io/t/truncated-inverse-normal-distribution-also-known-as-wald-distribution/1125\n",
    "    upper_bound = pm.Potential('upper_bound', tt.switch(tt.gt(obs, upper), -np.inf, -inverse_gaussian_logcdf_theano(upper, mu, lam)))\n",
    "    \n",
    "    trace = pm.sample(draws=5000, chains=2, cores=2, tune=1000)"
   ]
  },
  {
   "cell_type": "code",
   "execution_count": null,
   "metadata": {},
   "outputs": [],
   "source": [
    "pm.traceplot(trace, figsize=(5, 4));"
   ]
  },
  {
   "cell_type": "code",
   "execution_count": null,
   "metadata": {},
   "outputs": [],
   "source": [
    "fig, ax = plt.subplots(1, 2, figsize=(5, 2))\n",
    "pm.plot_posterior(trace, round_to=2, ref_val=[mu_true, lam_true], ax=ax);"
   ]
  },
  {
   "cell_type": "code",
   "execution_count": null,
   "metadata": {},
   "outputs": [],
   "source": [
    "fig, ax = plt.subplots(1, 1, figsize=(4, 3))\n",
    "plt.hist(obs, \n",
    "         bins=100, density=True, histtype='stepfilled', facecolor='lightgray', edgecolor='k',\n",
    "         label='observations');\n",
    "\n",
    "for mu, lam in zip(trace['mu'][::100], trace['lam'][::100]):\n",
    "    pdf = inverse_gaussian_pdf_truncated(x_wald, mu, lam, upper)\n",
    "    plt.plot(x_wald, pdf, '-r', alpha=0.01)\n",
    "\n",
    "plt.plot(np.nan, np.nan, '-r', label='posterior')\n",
    "plt.legend();"
   ]
  },
  {
   "cell_type": "markdown",
   "metadata": {},
   "source": [
    "## Try implementation from PyMC3 PR"
   ]
  },
  {
   "cell_type": "code",
   "execution_count": 20,
   "metadata": {},
   "outputs": [],
   "source": [
    "def zvalue(value, sd, mu):\n",
    "    \"\"\"\n",
    "    Calculate the z-value for a normal distribution.\n",
    "    \"\"\"\n",
    "    return (value - mu) / sd"
   ]
  },
  {
   "cell_type": "code",
   "execution_count": 21,
   "metadata": {},
   "outputs": [],
   "source": [
    "def normallogcdf(value, mu=0, sd=1):\n",
    "    \"\"\"\n",
    "    Normal log CDF. Useful for many log CDF methods.\n",
    "    \"\"\"\n",
    "    z = zvalue(value, mu=mu, sd=sd)\n",
    "    return tt.switch(\n",
    "        tt.lt(z, -1.0),\n",
    "        tt.log(tt.erfcx(-z / tt.sqrt(2.)) / 2.) -\n",
    "        tt.sqr(z) / 2,\n",
    "        tt.log1p(-tt.erfc(z / tt.sqrt(2.)) / 2.)\n",
    "    )"
   ]
  },
  {
   "cell_type": "code",
   "execution_count": 22,
   "metadata": {},
   "outputs": [],
   "source": [
    "def logcdf(mu, lam, alpha, value):\n",
    "        # Distribution parameters\n",
    "        alpha = 0\n",
    "        value -= alpha\n",
    "        q = value / mu\n",
    "        l = lam * mu\n",
    "        r = tt.sqrt(value * lam)\n",
    "\n",
    "        a = normallogcdf((q - 1.)/r)\n",
    "        b = 2./l + normallogcdf(-(q + 1.)/r)\n",
    "        return tt.switch(\n",
    "            (\n",
    "                # Left limit\n",
    "                tt.lt(value, 0) |\n",
    "                (tt.eq(value, 0) & tt.gt(mu, 0) & tt.lt(lam, np.inf)) |\n",
    "                (tt.lt(value, mu) & tt.eq(lam, 0))\n",
    "            ),\n",
    "            -np.inf,\n",
    "            tt.switch(\n",
    "                (\n",
    "                    # Right limit\n",
    "                    tt.eq(value, np.inf) |\n",
    "                    (tt.eq(lam, 0) & tt.gt(value, mu)) |\n",
    "                    (tt.gt(value, 0) & tt.eq(lam, np.inf)) |\n",
    "                    # Degenerate distribution\n",
    "                    (\n",
    "                        tt.lt(mu, np.inf) &\n",
    "                        tt.eq(mu, value) &\n",
    "                        tt.eq(lam, 0)\n",
    "                    ) |\n",
    "                    (tt.eq(value, 0) & tt.eq(lam, np.inf))\n",
    "                ),\n",
    "                0,\n",
    "                a + tt.log1p(tt.exp(b - a))\n",
    "            )\n",
    "        )\n"
   ]
  },
  {
   "cell_type": "code",
   "execution_count": 24,
   "metadata": {},
   "outputs": [
    {
     "name": "stderr",
     "output_type": "stream",
     "text": [
      "Auto-assigning NUTS sampler...\n",
      "Initializing NUTS using jitter+adapt_diag...\n",
      "Multiprocess sampling (2 chains in 2 jobs)\n",
      "NUTS: [lam_log__, mu_log__]\n"
     ]
    }
   ],
   "source": [
    "with pm.Model() as model:\n",
    "    \n",
    "    mu = pm.HalfNormal('mu', sd=10)\n",
    "    lam = pm.HalfNormal('lam', sd=10)\n",
    "    \n",
    "    y_likelihood = pm.Wald('y_likelihood', mu, lam, observed=obs)\n",
    "    # potential works the same as target +=... in Stan, tt.switch works the same as ifelse\n",
    "    # see: https://discourse.pymc.io/t/truncated-inverse-normal-distribution-also-known-as-wald-distribution/1125\n",
    "    upper_bound = pm.Potential('upper_bound', tt.switch(tt.gt(obs, upper), -np.inf, -logcdf(mu=mu, lam=lam, alpha=0, value=upper)))\n",
    "    \n",
    "    trace = pm.sample(draws=5000, chains=2, cores=2, tune=1000)"
   ]
  },
  {
   "cell_type": "code",
   "execution_count": 25,
   "metadata": {},
   "outputs": [
    {
     "data": {
      "image/png": "[encoded data removed]",
      "text/plain": [
       "<Figure size 360x144 with 2 Axes>"
      ]
     },
     "metadata": {},
     "output_type": "display_data"
    }
   ],
   "source": [
    "fig, ax = plt.subplots(1, 2, figsize=(5, 2))\n",
    "pm.plot_posterior(trace, round_to=2, ax=ax);"
   ]
  },
  {
   "cell_type": "code",
   "execution_count": null,
   "metadata": {},
   "outputs": [],
   "source": []
  },
  {
   "cell_type": "code",
   "execution_count": null,
   "metadata": {},
   "outputs": [],
   "source": []
  }
 ],
 "metadata": {
  "kernelspec": {
   "display_name": "Python 3",
   "language": "python",
   "name": "python3"
  },
  "language_info": {
   "codemirror_mode": {
    "name": "ipython",
    "version": 3
   },
   "file_extension": ".py",
   "mimetype": "text/x-python",
   "name": "python",
   "nbconvert_exporter": "python",
   "pygments_lexer": "ipython3",
   "version": "3.6.4"
  }
 },
 "nbformat": 4,
 "nbformat_minor": 2
}
