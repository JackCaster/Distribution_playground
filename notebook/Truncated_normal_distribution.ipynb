{
 "cells": [
  {
   "cell_type": "markdown",
   "metadata": {},
   "source": [
    "# Bayesian inference with PyMC\n",
    "## Truncated normal distribution for the likelihood"
   ]
  },
  {
   "cell_type": "code",
   "execution_count": null,
   "metadata": {},
   "outputs": [],
   "source": [
    "import pymc3 as pm\n",
    "\n",
    "%matplotlib inline\n",
    "import matplotlib.pyplot as plt\n",
    "\n",
    "import numpy as np\n",
    "np.random.seed(123)\n",
    "\n",
    "import scipy.stats as st\n",
    "import scipy.special as ss\n",
    "\n",
    "import theano.tensor as tt"
   ]
  },
  {
   "cell_type": "code",
   "execution_count": null,
   "metadata": {},
   "outputs": [],
   "source": [
    "def normal_pdf(x, mu, sigma):\n",
    "    return np.exp(-((x-mu)**2)/(2*sigma**2)) / np.sqrt(2*np.pi*sigma**2)\n",
    "\n",
    "def normal_cdf(x, mu, sigma):\n",
    "    return 0.5 * (1 + ss.erf((x-mu)/(sigma*np.sqrt(2))))"
   ]
  },
  {
   "cell_type": "code",
   "execution_count": null,
   "metadata": {},
   "outputs": [],
   "source": [
    "# The following functions are based on Wikipedia. \n",
    "# The drawback is that are not easily adaptable to other distributions\n",
    "def normal_pdf_truncated(x, mu, sigma, upper):\n",
    "    pdf = normal_pdf(x=(x-mu)/sigma, mu=0, sigma=1)\n",
    "    Z = normal_cdf(x=(upper-mu)/sigma, mu=0, sigma=1)\n",
    "    pdf /= (sigma * Z)\n",
    "    \n",
    "    return pdf\n",
    "\n",
    "def normal_cdf_truncated(x, mu, sigma, upper):\n",
    "    cdf = normal_cdf(x=(x-mu)/sigma, mu=0, sigma=1)    \n",
    "    Z = normal_cdf(x=(upper-mu)/sigma, mu=0, sigma=1)\n",
    "    cdf /= Z\n",
    "    \n",
    "    return cdf"
   ]
  },
  {
   "cell_type": "code",
   "execution_count": null,
   "metadata": {},
   "outputs": [],
   "source": [
    "# The following functions are based on the general approach to truncate distributions. \n",
    "# These can be easily adapted to other distributions\n",
    "def normal_pdf_truncated_v2(x, mu, sigma, upper):\n",
    "    pdf = normal_pdf(x=x, mu=mu, sigma=sigma)\n",
    "    pdf[x>upper] = 0\n",
    "    \n",
    "    pdf /= normal_cdf(x=upper, mu=mu, sigma=sigma)\n",
    "    \n",
    "    return pdf\n",
    "\n",
    "def normal_cdf_truncated_v2(x, mu, sigma, upper):\n",
    "    cdf = normal_cdf(x=x, mu=mu, sigma=sigma)\n",
    "    cdf[x>upper] = 0\n",
    "    \n",
    "    cdf /= normal_cdf(x=upper, mu=mu, sigma=sigma)\n",
    "    \n",
    "    return cdf"
   ]
  },
  {
   "cell_type": "code",
   "execution_count": null,
   "metadata": {},
   "outputs": [],
   "source": [
    "# generate Inverse Gaussian observations\n",
    "mu = 0\n",
    "sigma = 3\n",
    "\n",
    "y_norm = np.random.normal(loc=mu, scale=sigma, size=10000)\n",
    "\n",
    "range_x = 0.01\n",
    "x_norm = np.arange(np.min(y_norm), np.max(y_norm), range_x)\n",
    "\n",
    "upper = 5"
   ]
  },
  {
   "cell_type": "code",
   "execution_count": null,
   "metadata": {},
   "outputs": [],
   "source": [
    "# Test if the function are working correctly\n",
    "plt.hist(y_norm[y_norm<=upper], \n",
    "         bins=100, density=True, histtype='stepfilled', facecolor='lightgray', edgecolor='k',\n",
    "         label='observations')\n",
    "plt.plot(x_norm[x_norm<=upper], normal_pdf_truncated(x=x_norm[x_norm<=upper], mu=mu, sigma=sigma, upper=upper), \n",
    "         'b-', alpha=0.2, lw=7, label='$Truncated_{wikipedia}$');\n",
    "plt.plot(x_norm, normal_pdf_truncated_v2(x=x_norm, mu=mu, sigma=sigma, upper=upper), \n",
    "         color='lightgreen', alpha=1, lw=2, label='$Trucanted_{general}$');\n",
    "\n",
    "plt.legend();"
   ]
  },
  {
   "cell_type": "code",
   "execution_count": null,
   "metadata": {},
   "outputs": [],
   "source": [
    "# Test the CDF\n",
    "plt.hist(y_norm[y_norm<=upper], \n",
    "         bins=100, density=True, cumulative=True, histtype='stepfilled', facecolor='lightgray', edgecolor='k',\n",
    "         label='observations');\n",
    "plt.plot(x_norm[x_norm<=upper], normal_cdf_truncated(x=x_norm[x_norm<=upper], mu=mu, sigma=sigma, upper=upper), \n",
    "         'b-', alpha=0.5, lw=5,\n",
    "         label='$Truncated_{wikipedia}$');\n",
    "plt.plot(x_norm, normal_cdf_truncated_v2(x=x_norm, mu=mu, sigma=sigma, upper=upper),\n",
    "         color='lightgreen', alpha=1, lw=2,\n",
    "         label='$Trucanted_{general}$');\n",
    "plt.legend();"
   ]
  },
  {
   "cell_type": "markdown",
   "metadata": {},
   "source": [
    "## Estimate parameter with PyMC3"
   ]
  },
  {
   "cell_type": "code",
   "execution_count": null,
   "metadata": {},
   "outputs": [],
   "source": [
    "obs = y_norm[y_norm<=upper]\n",
    "obs"
   ]
  },
  {
   "cell_type": "code",
   "execution_count": null,
   "metadata": {},
   "outputs": [],
   "source": [
    "def normal_logcdf_theano(x, mu, sigma):\n",
    "    return tt.log(0.5 * (1 + tt.erf((x-mu)/(sigma*tt.sqrt(2)))))\n"
   ]
  },
  {
   "cell_type": "code",
   "execution_count": null,
   "metadata": {},
   "outputs": [],
   "source": [
    "def normal_lcdf(x, mu, sigma):\n",
    "    z = (x - mu) / sigma\n",
    "    return tt.switch(\n",
    "        tt.lt(z, -1.0),\n",
    "        tt.log(tt.erfcx(-z / tt.sqrt(2.)) / 2.) - tt.sqr(z) / 2.,\n",
    "        tt.log1p(-tt.erfc(z / tt.sqrt(2.)) / 2.)\n",
    "    )"
   ]
  },
  {
   "cell_type": "code",
   "execution_count": null,
   "metadata": {},
   "outputs": [],
   "source": [
    "with pm.Model() as model:\n",
    "    \n",
    "    mu = pm.Normal('mu', mu=0, sd=100)\n",
    "    sd = pm.HalfNormal('sd', sd=100)\n",
    "    \n",
    "    y_likelihood = pm.Normal('y_likelihood', mu, sd, observed=obs)\n",
    "    # potential works the same as target +=... in Stan, tt.switch works the same as ifelse\n",
    "    # see: https://discourse.pymc.io/t/truncated-inverse-normal-distribution-also-known-as-wald-distribution/1125\n",
    "    upper_bound = pm.Potential('upper_bound', tt.switch(tt.gt(obs, upper), -np.inf, -normal_logcdf_theano(upper, mu, sd)))\n",
    "    #upper_bound = pm.Potential('upper_bound', tt.switch(tt.gt(obs, upper), -np.inf, -normal_lcdf(upper, mu, sd)))\n",
    "    \n",
    "    trace = pm.sample(draws=5000, chains=2, cores=2, tune=1000)"
   ]
  },
  {
   "cell_type": "code",
   "execution_count": null,
   "metadata": {},
   "outputs": [],
   "source": [
    "pm.traceplot(trace, figsize=(5, 4));"
   ]
  },
  {
   "cell_type": "code",
   "execution_count": null,
   "metadata": {},
   "outputs": [],
   "source": [
    "fig, ax = plt.subplots(1, 2, figsize=(5, 2))\n",
    "pm.plot_posterior(trace, color='skyblue', round_to=2, ax=ax);"
   ]
  },
  {
   "cell_type": "code",
   "execution_count": null,
   "metadata": {},
   "outputs": [],
   "source": [
    "fig, ax = plt.subplots(1, 1, figsize=(4, 3))\n",
    "plt.hist(obs, \n",
    "         bins=100, density=True, histtype='stepfilled', facecolor='lightgray', edgecolor='k',\n",
    "         label='observations');\n",
    "\n",
    "for mu, sigma in zip(trace['mu'][::100], trace['sd'][::100]):\n",
    "    pdf = normal_pdf_truncated_v2(x_norm, mu, sigma, upper)\n",
    "    plt.plot(x_norm, pdf, '-r', alpha=0.01)\n",
    "\n",
    "plt.plot(np.nan, np.nan, '-r', label='posterior')\n",
    "plt.legend();"
   ]
  },
  {
   "cell_type": "code",
   "execution_count": null,
   "metadata": {},
   "outputs": [],
   "source": []
  }
 ],
 "metadata": {
  "kernelspec": {
   "display_name": "Python 3",
   "language": "python",
   "name": "python3"
  },
  "language_info": {
   "codemirror_mode": {
    "name": "ipython",
    "version": 3
   },
   "file_extension": ".py",
   "mimetype": "text/x-python",
   "name": "python",
   "nbconvert_exporter": "python",
   "pygments_lexer": "ipython3",
   "version": "3.6.6"
  }
 },
 "nbformat": 4,
 "nbformat_minor": 2
}
